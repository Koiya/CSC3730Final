{
 "cells": [
  {
   "cell_type": "code",
   "execution_count": 12,
   "id": "aa28d022",
   "metadata": {
    "papermill": {
     "duration": 5.892295,
     "end_time": "2023-07-28T06:09:02.634794",
     "exception": false,
     "start_time": "2023-07-28T06:08:56.742499",
     "status": "completed"
    },
    "tags": []
   },
   "outputs": [
    {
     "name": "stderr",
     "output_type": "stream",
     "text": [
      "\n",
      "[notice] A new release of pip is available: 24.2 -> 24.3.1\n",
      "[notice] To update, run: python.exe -m pip install --upgrade pip\n"
     ]
    }
   ],
   "source": [
    "!pip install wordcloud -q"
   ]
  },
  {
   "cell_type": "code",
   "execution_count": 14,
   "id": "944350fa",
   "metadata": {
    "_cell_guid": "b1076dfc-b9ad-4769-8c92-a6c4dae69d19",
    "_uuid": "8f2839f25d086af736a60e9eeb907d3b93b6e0e5",
    "papermill": {
     "duration": 43.953781,
     "end_time": "2023-07-28T06:09:46.602406",
     "exception": false,
     "start_time": "2023-07-28T06:09:02.648625",
     "status": "completed"
    },
    "tags": []
   },
   "outputs": [],
   "source": [
    "### Basic libraries\n",
    "import numpy as np\n",
    "import pandas as pd\n",
    "import matplotlib.pyplot as plt\n",
    "%matplotlib inline\n",
    "import pickle\n",
    "import warnings\n",
    "warnings.filterwarnings(action='ignore')\n",
    "\n",
    "# Data Preprocessing\n",
    "from sklearn.preprocessing import MinMaxScaler\n",
    "from sklearn.preprocessing import LabelEncoder\n",
    "\n",
    "## Import necessary modules for content-based filtering\n",
    "from sklearn.feature_extraction.text import TfidfVectorizer\n",
    "from sklearn.metrics.pairwise import linear_kernel\n"
   ]
  },
  {
   "cell_type": "markdown",
   "id": "0c6cd4b4-94ae-4e30-b490-be8268cc32d5",
   "metadata": {},
   "source": [
    "# Data Processing"
   ]
  },
  {
   "cell_type": "markdown",
   "id": "eb33d4ec",
   "metadata": {
    "papermill": {
     "duration": 0.09984,
     "end_time": "2023-07-28T06:12:11.714098",
     "exception": false,
     "start_time": "2023-07-28T06:12:11.614258",
     "status": "completed"
    },
    "tags": []
   },
   "source": [
    "#### Reading the whole dataset"
   ]
  },
  {
   "cell_type": "code",
   "execution_count": 15,
   "id": "7d089dcf",
   "metadata": {
    "papermill": {
     "duration": 0.607798,
     "end_time": "2023-07-28T06:12:12.423043",
     "exception": false,
     "start_time": "2023-07-28T06:12:11.815245",
     "status": "completed"
    },
    "tags": []
   },
   "outputs": [],
   "source": [
    "df_anime=pd.read_csv('./dataset/anime_cleaned.csv')"
   ]
  },
  {
   "cell_type": "markdown",
   "id": "b55f4865",
   "metadata": {
    "papermill": {
     "duration": 0.101806,
     "end_time": "2023-07-28T06:12:12.627620",
     "exception": false,
     "start_time": "2023-07-28T06:12:12.525814",
     "status": "completed"
    },
    "tags": []
   },
   "source": [
    "#### Now I want my model to recommend only those animes that have been rated by at least a certain number of users, which I will set as the threshold. This threshold helps ensure that the recommended anime titles have received a sufficient number of ratings, indicating a certain level of popularity or user engagement."
   ]
  },
  {
   "cell_type": "code",
   "execution_count": 56,
   "id": "966b26aa",
   "metadata": {
    "papermill": {
     "duration": 0.150399,
     "end_time": "2023-07-28T06:12:12.880153",
     "exception": false,
     "start_time": "2023-07-28T06:12:12.729754",
     "status": "completed"
    },
    "scrolled": true,
    "tags": []
   },
   "outputs": [
    {
     "name": "stdout",
     "output_type": "stream",
     "text": [
      "(4174, 34)\n"
     ]
    },
    {
     "data": {
      "text/html": [
       "<div>\n",
       "<style scoped>\n",
       "    .dataframe tbody tr th:only-of-type {\n",
       "        vertical-align: middle;\n",
       "    }\n",
       "\n",
       "    .dataframe tbody tr th {\n",
       "        vertical-align: top;\n",
       "    }\n",
       "\n",
       "    .dataframe thead th {\n",
       "        text-align: right;\n",
       "    }\n",
       "</style>\n",
       "<table border=\"1\" class=\"dataframe\">\n",
       "  <thead>\n",
       "    <tr style=\"text-align: right;\">\n",
       "      <th></th>\n",
       "      <th>index</th>\n",
       "      <th>anime_id</th>\n",
       "      <th>title</th>\n",
       "      <th>title_english</th>\n",
       "      <th>title_japanese</th>\n",
       "      <th>title_synonyms</th>\n",
       "      <th>image_url</th>\n",
       "      <th>type</th>\n",
       "      <th>source</th>\n",
       "      <th>episodes</th>\n",
       "      <th>...</th>\n",
       "      <th>broadcast</th>\n",
       "      <th>related</th>\n",
       "      <th>producer</th>\n",
       "      <th>licensor</th>\n",
       "      <th>studio</th>\n",
       "      <th>genre</th>\n",
       "      <th>opening_theme</th>\n",
       "      <th>ending_theme</th>\n",
       "      <th>duration_min</th>\n",
       "      <th>aired_from_year</th>\n",
       "    </tr>\n",
       "  </thead>\n",
       "  <tbody>\n",
       "    <tr>\n",
       "      <th>0</th>\n",
       "      <td>0</td>\n",
       "      <td>11013</td>\n",
       "      <td>Inu x Boku SS</td>\n",
       "      <td>Inu X Boku Secret Service</td>\n",
       "      <td>妖狐×僕SS</td>\n",
       "      <td>Youko x Boku SS</td>\n",
       "      <td>https://myanimelist.cdn-dena.com/images/anime/...</td>\n",
       "      <td>TV</td>\n",
       "      <td>Manga</td>\n",
       "      <td>12</td>\n",
       "      <td>...</td>\n",
       "      <td>Fridays at Unknown</td>\n",
       "      <td>{'Adaptation': [{'mal_id': 17207, 'type': 'man...</td>\n",
       "      <td>Aniplex, Square Enix, Mainichi Broadcasting Sy...</td>\n",
       "      <td>Sentai Filmworks</td>\n",
       "      <td>David Production</td>\n",
       "      <td>Comedy, Supernatural, Romance, Shounen</td>\n",
       "      <td>['\"Nirvana\" by MUCC']</td>\n",
       "      <td>['#1: \"Nirvana\" by MUCC (eps 1, 11-12)', '#2: ...</td>\n",
       "      <td>24.0</td>\n",
       "      <td>2012.0</td>\n",
       "    </tr>\n",
       "    <tr>\n",
       "      <th>1</th>\n",
       "      <td>1</td>\n",
       "      <td>2104</td>\n",
       "      <td>Seto no Hanayome</td>\n",
       "      <td>My Bride is a Mermaid</td>\n",
       "      <td>瀬戸の花嫁</td>\n",
       "      <td>The Inland Sea Bride</td>\n",
       "      <td>https://myanimelist.cdn-dena.com/images/anime/...</td>\n",
       "      <td>TV</td>\n",
       "      <td>Manga</td>\n",
       "      <td>26</td>\n",
       "      <td>...</td>\n",
       "      <td>Unknown</td>\n",
       "      <td>{'Adaptation': [{'mal_id': 759, 'type': 'manga...</td>\n",
       "      <td>TV Tokyo, AIC, Square Enix, Sotsu</td>\n",
       "      <td>Funimation</td>\n",
       "      <td>Gonzo</td>\n",
       "      <td>Comedy, Parody, Romance, School, Shounen</td>\n",
       "      <td>['\"Romantic summer\" by SUN&amp;LUNAR']</td>\n",
       "      <td>['#1: \"Ashita e no Hikari (明日への光)\" by Asuka Hi...</td>\n",
       "      <td>24.0</td>\n",
       "      <td>2007.0</td>\n",
       "    </tr>\n",
       "    <tr>\n",
       "      <th>2</th>\n",
       "      <td>2</td>\n",
       "      <td>5262</td>\n",
       "      <td>Shugo Chara!! Doki</td>\n",
       "      <td>Shugo Chara!! Doki</td>\n",
       "      <td>しゅごキャラ！！どきっ</td>\n",
       "      <td>Shugo Chara Ninenme, Shugo Chara! Second Year</td>\n",
       "      <td>https://myanimelist.cdn-dena.com/images/anime/...</td>\n",
       "      <td>TV</td>\n",
       "      <td>Manga</td>\n",
       "      <td>51</td>\n",
       "      <td>...</td>\n",
       "      <td>Unknown</td>\n",
       "      <td>{'Adaptation': [{'mal_id': 101, 'type': 'manga...</td>\n",
       "      <td>TV Tokyo, Sotsu</td>\n",
       "      <td>NaN</td>\n",
       "      <td>Satelight</td>\n",
       "      <td>Comedy, Magic, School, Shoujo</td>\n",
       "      <td>['#1: \"Minna no Tamago (みんなのたまご)\" by Shugo Cha...</td>\n",
       "      <td>['#1: \"Rottara Rottara (ロッタラ ロッタラ)\" by Buono! ...</td>\n",
       "      <td>24.0</td>\n",
       "      <td>2008.0</td>\n",
       "    </tr>\n",
       "  </tbody>\n",
       "</table>\n",
       "<p>3 rows × 34 columns</p>\n",
       "</div>"
      ],
      "text/plain": [
       "   index  anime_id               title              title_english  \\\n",
       "0      0     11013       Inu x Boku SS  Inu X Boku Secret Service   \n",
       "1      1      2104    Seto no Hanayome      My Bride is a Mermaid   \n",
       "2      2      5262  Shugo Chara!! Doki         Shugo Chara!! Doki   \n",
       "\n",
       "  title_japanese                                 title_synonyms  \\\n",
       "0         妖狐×僕SS                                Youko x Boku SS   \n",
       "1          瀬戸の花嫁                           The Inland Sea Bride   \n",
       "2    しゅごキャラ！！どきっ  Shugo Chara Ninenme, Shugo Chara! Second Year   \n",
       "\n",
       "                                           image_url type source  episodes  \\\n",
       "0  https://myanimelist.cdn-dena.com/images/anime/...   TV  Manga        12   \n",
       "1  https://myanimelist.cdn-dena.com/images/anime/...   TV  Manga        26   \n",
       "2  https://myanimelist.cdn-dena.com/images/anime/...   TV  Manga        51   \n",
       "\n",
       "   ...           broadcast                                            related  \\\n",
       "0  ...  Fridays at Unknown  {'Adaptation': [{'mal_id': 17207, 'type': 'man...   \n",
       "1  ...             Unknown  {'Adaptation': [{'mal_id': 759, 'type': 'manga...   \n",
       "2  ...             Unknown  {'Adaptation': [{'mal_id': 101, 'type': 'manga...   \n",
       "\n",
       "                                            producer          licensor  \\\n",
       "0  Aniplex, Square Enix, Mainichi Broadcasting Sy...  Sentai Filmworks   \n",
       "1                  TV Tokyo, AIC, Square Enix, Sotsu        Funimation   \n",
       "2                                    TV Tokyo, Sotsu               NaN   \n",
       "\n",
       "             studio                                     genre  \\\n",
       "0  David Production    Comedy, Supernatural, Romance, Shounen   \n",
       "1             Gonzo  Comedy, Parody, Romance, School, Shounen   \n",
       "2         Satelight             Comedy, Magic, School, Shoujo   \n",
       "\n",
       "                                       opening_theme  \\\n",
       "0                              ['\"Nirvana\" by MUCC']   \n",
       "1                 ['\"Romantic summer\" by SUN&LUNAR']   \n",
       "2  ['#1: \"Minna no Tamago (みんなのたまご)\" by Shugo Cha...   \n",
       "\n",
       "                                        ending_theme  duration_min  \\\n",
       "0  ['#1: \"Nirvana\" by MUCC (eps 1, 11-12)', '#2: ...          24.0   \n",
       "1  ['#1: \"Ashita e no Hikari (明日への光)\" by Asuka Hi...          24.0   \n",
       "2  ['#1: \"Rottara Rottara (ロッタラ ロッタラ)\" by Buono! ...          24.0   \n",
       "\n",
       "   aired_from_year  \n",
       "0           2012.0  \n",
       "1           2007.0  \n",
       "2           2008.0  \n",
       "\n",
       "[3 rows x 34 columns]"
      ]
     },
     "execution_count": 56,
     "metadata": {},
     "output_type": "execute_result"
    }
   ],
   "source": [
    "popularity_threshold = 5000\n",
    "df_anime = df_anime.query('members >= @popularity_threshold') # only give rating of those movies for which atleast 600 user have rated\n",
    "# IMPORTANT! reindexes the dataframe\n",
    "df_anime = df_anime.drop_duplicates('anime_id').reset_index(drop=True);\n",
    "print(df_anime.shape)\n",
    "df_anime.head(3)    "
   ]
  },
  {
   "cell_type": "markdown",
   "id": "017e91fb",
   "metadata": {
    "papermill": {
     "duration": 0.106088,
     "end_time": "2023-07-28T06:12:19.364621",
     "exception": false,
     "start_time": "2023-07-28T06:12:19.258533",
     "status": "completed"
    },
    "tags": []
   },
   "source": [
    "# Model training (content-based filtering)"
   ]
  },
  {
   "cell_type": "code",
   "execution_count": 79,
   "id": "1d00a22d",
   "metadata": {
    "papermill": {
     "duration": 7.856176,
     "end_time": "2023-07-28T06:12:27.327823",
     "exception": false,
     "start_time": "2023-07-28T06:12:19.471647",
     "status": "completed"
    },
    "tags": []
   },
   "outputs": [],
   "source": [
    "# Create a term frequency inverse document frequency\n",
    "tfidf = TfidfVectorizer(stop_words='english')\n",
    "# Define a generator to compute TF-IDF matrix on the fly\n",
    "tfidf_matrix_generator = tfidf.fit_transform((genre for genre in df_anime['genre'].to_numpy().astype('U')))\n",
    "\n",
    "# Compute cosine similarity matrix as a sparse matrix\n",
    "cosine_sim_sparse = linear_kernel(tfidf_matrix_generator, tfidf_matrix_generator)"
   ]
  },
  {
   "cell_type": "markdown",
   "id": "b7c7096a",
   "metadata": {
    "papermill": {
     "duration": 0.106849,
     "end_time": "2023-07-28T06:12:27.542275",
     "exception": false,
     "start_time": "2023-07-28T06:12:27.435426",
     "status": "completed"
    },
    "tags": []
   },
   "source": [
    "# 2: Content-Based Recommendation"
   ]
  },
  {
   "cell_type": "code",
   "execution_count": 89,
   "id": "b873dca3",
   "metadata": {
    "papermill": {
     "duration": 0.119557,
     "end_time": "2023-07-28T06:12:27.769044",
     "exception": false,
     "start_time": "2023-07-28T06:12:27.649487",
     "status": "completed"
    },
    "tags": []
   },
   "outputs": [],
   "source": [
    "# Function to get recommendations based on cosine similarity, genre, and ratings based on score\n",
    "# show_type can be None, Movie, OVA, Special, TV\n",
    "def get_recommendations(title, cosine_sim, df, n=10, show_type=None):\n",
    "    idx = df[df['title'] == title].index[0]\n",
    "    print(\"Genres of title\", df.iloc[idx]['genre'])\n",
    "    # Compute the similarity scores between the anime at the given index and all other animes\n",
    "    sim_scores = list(enumerate(cosine_sim[idx]))\n",
    "    #print(sim_scores)\n",
    "    # Filter out animes with unknown scores\n",
    "    valid_scores = [x for x in sim_scores if df.iloc[x[0]]['score'] != \"UNKNOWN\"]\n",
    "    if show_type:\n",
    "        valid_scores = [x for x in valid_scores if df.iloc[x[0]]['type'] == show_type]\n",
    "    \n",
    "    # Sort the valid anime similarity scores based on the cosine similarity and ratings score in descending order\n",
    "    sorted_scores = sorted(valid_scores, key=lambda x: (x[1], df.iloc[x[0]]['score']), reverse=True)\n",
    "    \n",
    "    # Get the top 10 similar animes (excluding the anime itself)\n",
    "    top_animes = [x for x in sorted_scores if x[0] != idx][:n]\n",
    "    #print(top_animes)\n",
    "    # Extract the indices of the recommended animes\n",
    "    recommended_indices = [idx for idx, _ in top_animes]\n",
    "    recommended_animes = df.iloc[recommended_indices][['title', 'genre', 'score', 'type']]\n",
    "    return recommended_animes"
   ]
  },
  {
   "cell_type": "code",
   "execution_count": 90,
   "id": "53ec5c9f",
   "metadata": {
    "papermill": {
     "duration": 4.712133,
     "end_time": "2023-07-28T06:12:32.587327",
     "exception": false,
     "start_time": "2023-07-28T06:12:27.875194",
     "status": "completed"
    },
    "scrolled": true,
    "tags": []
   },
   "outputs": [
    {
     "name": "stdout",
     "output_type": "stream",
     "text": [
      "Genres of title Adventure, Comedy, Parody, Supernatural, Magic, Fantasy\n",
      "Recommendations for \"Kono Subarashii Sekai ni Shukufuku wo!\":\n"
     ]
    },
    {
     "data": {
      "text/html": [
       "<div>\n",
       "<style scoped>\n",
       "    .dataframe tbody tr th:only-of-type {\n",
       "        vertical-align: middle;\n",
       "    }\n",
       "\n",
       "    .dataframe tbody tr th {\n",
       "        vertical-align: top;\n",
       "    }\n",
       "\n",
       "    .dataframe thead th {\n",
       "        text-align: right;\n",
       "    }\n",
       "</style>\n",
       "<table border=\"1\" class=\"dataframe\">\n",
       "  <thead>\n",
       "    <tr style=\"text-align: right;\">\n",
       "      <th></th>\n",
       "      <th>title</th>\n",
       "      <th>genre</th>\n",
       "      <th>score</th>\n",
       "      <th>type</th>\n",
       "    </tr>\n",
       "  </thead>\n",
       "  <tbody>\n",
       "    <tr>\n",
       "      <th>1394</th>\n",
       "      <td>Slayers Gorgeous</td>\n",
       "      <td>Adventure, Comedy, Fantasy, Magic, Supernatural</td>\n",
       "      <td>7.40</td>\n",
       "      <td>Movie</td>\n",
       "    </tr>\n",
       "    <tr>\n",
       "      <th>3528</th>\n",
       "      <td>Mahou Sensei Negima! Anime Final</td>\n",
       "      <td>Adventure, Magic, Supernatural</td>\n",
       "      <td>6.88</td>\n",
       "      <td>Movie</td>\n",
       "    </tr>\n",
       "    <tr>\n",
       "      <th>3343</th>\n",
       "      <td>Mary to Majo no Hana</td>\n",
       "      <td>Adventure, Fantasy, Magic</td>\n",
       "      <td>7.45</td>\n",
       "      <td>Movie</td>\n",
       "    </tr>\n",
       "    <tr>\n",
       "      <th>3377</th>\n",
       "      <td>Gedo Senki</td>\n",
       "      <td>Adventure, Fantasy, Magic</td>\n",
       "      <td>7.13</td>\n",
       "      <td>Movie</td>\n",
       "    </tr>\n",
       "    <tr>\n",
       "      <th>696</th>\n",
       "      <td>Slayers Return</td>\n",
       "      <td>Adventure, Comedy, Fantasy, Magic, Shounen</td>\n",
       "      <td>7.40</td>\n",
       "      <td>Movie</td>\n",
       "    </tr>\n",
       "    <tr>\n",
       "      <th>964</th>\n",
       "      <td>Slayers Great</td>\n",
       "      <td>Adventure, Comedy, Fantasy, Magic, Shounen</td>\n",
       "      <td>7.39</td>\n",
       "      <td>Movie</td>\n",
       "    </tr>\n",
       "    <tr>\n",
       "      <th>2438</th>\n",
       "      <td>Slayers: The Motion Picture</td>\n",
       "      <td>Adventure, Comedy, Magic, Fantasy, Shounen</td>\n",
       "      <td>7.36</td>\n",
       "      <td>Movie</td>\n",
       "    </tr>\n",
       "    <tr>\n",
       "      <th>2385</th>\n",
       "      <td>Slayers Premium</td>\n",
       "      <td>Adventure, Comedy, Fantasy, Magic, Shounen</td>\n",
       "      <td>7.29</td>\n",
       "      <td>Movie</td>\n",
       "    </tr>\n",
       "    <tr>\n",
       "      <th>3653</th>\n",
       "      <td>Fate/stay night Movie: Heaven&amp;#039;s Feel - I....</td>\n",
       "      <td>Action, Fantasy, Magic, Supernatural</td>\n",
       "      <td>8.47</td>\n",
       "      <td>Movie</td>\n",
       "    </tr>\n",
       "    <tr>\n",
       "      <th>98</th>\n",
       "      <td>Fate/stay night Movie: Unlimited Blade Works</td>\n",
       "      <td>Action, Fantasy, Magic, Supernatural</td>\n",
       "      <td>7.53</td>\n",
       "      <td>Movie</td>\n",
       "    </tr>\n",
       "  </tbody>\n",
       "</table>\n",
       "</div>"
      ],
      "text/plain": [
       "                                                  title  \\\n",
       "1394                                   Slayers Gorgeous   \n",
       "3528                   Mahou Sensei Negima! Anime Final   \n",
       "3343                               Mary to Majo no Hana   \n",
       "3377                                         Gedo Senki   \n",
       "696                                      Slayers Return   \n",
       "964                                       Slayers Great   \n",
       "2438                        Slayers: The Motion Picture   \n",
       "2385                                    Slayers Premium   \n",
       "3653  Fate/stay night Movie: Heaven&#039;s Feel - I....   \n",
       "98         Fate/stay night Movie: Unlimited Blade Works   \n",
       "\n",
       "                                                genre  score   type  \n",
       "1394  Adventure, Comedy, Fantasy, Magic, Supernatural   7.40  Movie  \n",
       "3528                   Adventure, Magic, Supernatural   6.88  Movie  \n",
       "3343                        Adventure, Fantasy, Magic   7.45  Movie  \n",
       "3377                        Adventure, Fantasy, Magic   7.13  Movie  \n",
       "696        Adventure, Comedy, Fantasy, Magic, Shounen   7.40  Movie  \n",
       "964        Adventure, Comedy, Fantasy, Magic, Shounen   7.39  Movie  \n",
       "2438       Adventure, Comedy, Magic, Fantasy, Shounen   7.36  Movie  \n",
       "2385       Adventure, Comedy, Fantasy, Magic, Shounen   7.29  Movie  \n",
       "3653             Action, Fantasy, Magic, Supernatural   8.47  Movie  \n",
       "98               Action, Fantasy, Magic, Supernatural   7.53  Movie  "
      ]
     },
     "execution_count": 90,
     "metadata": {},
     "output_type": "execute_result"
    }
   ],
   "source": [
    "# Example usage: Get recommendations for an anime\n",
    "anime_title = 'Kono Subarashii Sekai ni Shukufuku wo!'\n",
    "recommendations = get_recommendations(anime_title, cosine_sim_sparse, df_anime, n=10, show_type='Movie')\n",
    "print(f'Recommendations for \"{anime_title}\":')\n",
    "recommendations"
   ]
  },
  {
   "cell_type": "code",
   "execution_count": 92,
   "id": "f76cad82",
   "metadata": {
    "papermill": {
     "duration": 4.823355,
     "end_time": "2023-07-28T06:12:37.518909",
     "exception": false,
     "start_time": "2023-07-28T06:12:32.695554",
     "status": "completed"
    },
    "tags": []
   },
   "outputs": [
    {
     "name": "stdout",
     "output_type": "stream",
     "text": [
      "Genres of title Supernatural, Drama, Romance, School\n",
      "Recommendations for \"Kimi no Na wa.\":\n"
     ]
    },
    {
     "data": {
      "text/html": [
       "<div>\n",
       "<style scoped>\n",
       "    .dataframe tbody tr th:only-of-type {\n",
       "        vertical-align: middle;\n",
       "    }\n",
       "\n",
       "    .dataframe tbody tr th {\n",
       "        vertical-align: top;\n",
       "    }\n",
       "\n",
       "    .dataframe thead th {\n",
       "        text-align: right;\n",
       "    }\n",
       "</style>\n",
       "<table border=\"1\" class=\"dataframe\">\n",
       "  <thead>\n",
       "    <tr style=\"text-align: right;\">\n",
       "      <th></th>\n",
       "      <th>title</th>\n",
       "      <th>genre</th>\n",
       "      <th>score</th>\n",
       "      <th>type</th>\n",
       "    </tr>\n",
       "  </thead>\n",
       "  <tbody>\n",
       "    <tr>\n",
       "      <th>4165</th>\n",
       "      <td>Aura: Maryuuin Kouga Saigo no Tatakai</td>\n",
       "      <td>Supernatural, Drama, Romance, School</td>\n",
       "      <td>7.60</td>\n",
       "      <td>Movie</td>\n",
       "    </tr>\n",
       "    <tr>\n",
       "      <th>2063</th>\n",
       "      <td>Air Movie</td>\n",
       "      <td>Drama, Romance, Supernatural</td>\n",
       "      <td>7.35</td>\n",
       "      <td>Movie</td>\n",
       "    </tr>\n",
       "    <tr>\n",
       "      <th>2209</th>\n",
       "      <td>Kokoro ga Sakebitagatterunda.</td>\n",
       "      <td>Drama, Romance, School</td>\n",
       "      <td>8.18</td>\n",
       "      <td>Movie</td>\n",
       "    </tr>\n",
       "    <tr>\n",
       "      <th>4048</th>\n",
       "      <td>Suki ni Naru Sono Shunkan wo.: Kokuhaku Jikkou...</td>\n",
       "      <td>Comedy, Drama, Romance, School</td>\n",
       "      <td>7.21</td>\n",
       "      <td>Movie</td>\n",
       "    </tr>\n",
       "    <tr>\n",
       "      <th>2000</th>\n",
       "      <td>Da Yu Hai Tang</td>\n",
       "      <td>Adventure, Drama, Romance, Supernatural</td>\n",
       "      <td>7.82</td>\n",
       "      <td>Movie</td>\n",
       "    </tr>\n",
       "    <tr>\n",
       "      <th>618</th>\n",
       "      <td>Clannad Movie</td>\n",
       "      <td>Drama, Romance, Fantasy, School</td>\n",
       "      <td>7.32</td>\n",
       "      <td>Movie</td>\n",
       "    </tr>\n",
       "    <tr>\n",
       "      <th>3446</th>\n",
       "      <td>Momo e no Tegami</td>\n",
       "      <td>Supernatural, Drama</td>\n",
       "      <td>7.73</td>\n",
       "      <td>Movie</td>\n",
       "    </tr>\n",
       "    <tr>\n",
       "      <th>3041</th>\n",
       "      <td>Zutto Mae kara Suki deshita.: Kokuhaku Jikkou ...</td>\n",
       "      <td>Romance, School</td>\n",
       "      <td>7.42</td>\n",
       "      <td>Movie</td>\n",
       "    </tr>\n",
       "    <tr>\n",
       "      <th>1315</th>\n",
       "      <td>Taifuu no Noruda</td>\n",
       "      <td>Drama, School, Sci-Fi, Supernatural</td>\n",
       "      <td>6.33</td>\n",
       "      <td>Movie</td>\n",
       "    </tr>\n",
       "    <tr>\n",
       "      <th>4075</th>\n",
       "      <td>Hotarubi no Mori e</td>\n",
       "      <td>Drama, Romance, Shoujo, Supernatural</td>\n",
       "      <td>8.55</td>\n",
       "      <td>Movie</td>\n",
       "    </tr>\n",
       "  </tbody>\n",
       "</table>\n",
       "</div>"
      ],
      "text/plain": [
       "                                                  title  \\\n",
       "4165              Aura: Maryuuin Kouga Saigo no Tatakai   \n",
       "2063                                          Air Movie   \n",
       "2209                      Kokoro ga Sakebitagatterunda.   \n",
       "4048  Suki ni Naru Sono Shunkan wo.: Kokuhaku Jikkou...   \n",
       "2000                                     Da Yu Hai Tang   \n",
       "618                                       Clannad Movie   \n",
       "3446                                   Momo e no Tegami   \n",
       "3041  Zutto Mae kara Suki deshita.: Kokuhaku Jikkou ...   \n",
       "1315                                   Taifuu no Noruda   \n",
       "4075                                 Hotarubi no Mori e   \n",
       "\n",
       "                                        genre  score   type  \n",
       "4165     Supernatural, Drama, Romance, School   7.60  Movie  \n",
       "2063             Drama, Romance, Supernatural   7.35  Movie  \n",
       "2209                   Drama, Romance, School   8.18  Movie  \n",
       "4048           Comedy, Drama, Romance, School   7.21  Movie  \n",
       "2000  Adventure, Drama, Romance, Supernatural   7.82  Movie  \n",
       "618           Drama, Romance, Fantasy, School   7.32  Movie  \n",
       "3446                      Supernatural, Drama   7.73  Movie  \n",
       "3041                          Romance, School   7.42  Movie  \n",
       "1315      Drama, School, Sci-Fi, Supernatural   6.33  Movie  \n",
       "4075     Drama, Romance, Shoujo, Supernatural   8.55  Movie  "
      ]
     },
     "execution_count": 92,
     "metadata": {},
     "output_type": "execute_result"
    }
   ],
   "source": [
    "anime_title = 'Kimi no Na wa.'\n",
    "recommendations = get_recommendations(anime_title, cosine_sim_sparse, df_anime, show_type='Movie')\n",
    "print(f'Recommendations for \"{anime_title}\":')\n",
    "recommendations"
   ]
  },
  {
   "cell_type": "code",
   "execution_count": null,
   "id": "6baa4121-dd33-4406-94b0-bd5a319841d3",
   "metadata": {},
   "outputs": [],
   "source": []
  }
 ],
 "metadata": {
  "kernelspec": {
   "display_name": "Python 3 (ipykernel)",
   "language": "python",
   "name": "python3"
  },
  "language_info": {
   "codemirror_mode": {
    "name": "ipython",
    "version": 3
   },
   "file_extension": ".py",
   "mimetype": "text/x-python",
   "name": "python",
   "nbconvert_exporter": "python",
   "pygments_lexer": "ipython3",
   "version": "3.12.4"
  },
  "papermill": {
   "default_parameters": {},
   "duration": 227.675184,
   "end_time": "2023-07-28T06:12:41.680415",
   "environment_variables": {},
   "exception": null,
   "input_path": "__notebook__.ipynb",
   "output_path": "__notebook__.ipynb",
   "parameters": {},
   "start_time": "2023-07-28T06:08:54.005231",
   "version": "2.4.0"
  }
 },
 "nbformat": 4,
 "nbformat_minor": 5
}
